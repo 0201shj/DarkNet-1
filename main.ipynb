{
  "nbformat": 4,
  "nbformat_minor": 0,
  "metadata": {
    "kernelspec": {
      "display_name": "Python 3",
      "language": "python",
      "name": "python3"
    },
    "language_info": {
      "codemirror_mode": {
        "name": "ipython",
        "version": 3
      },
      "file_extension": ".py",
      "mimetype": "text/x-python",
      "name": "python",
      "nbconvert_exporter": "python",
      "pygments_lexer": "ipython3",
      "version": "3.8.5"
    },
    "colab": {
      "name": "main.ipynb",
      "provenance": [],
      "include_colab_link": true
    }
  },
  "cells": [
    {
      "cell_type": "markdown",
      "metadata": {
        "id": "view-in-github",
        "colab_type": "text"
      },
      "source": [
        "<a href=\"https://colab.research.google.com/github/gaeunkim0721/DarkNet/blob/main/main.ipynb\" target=\"_parent\"><img src=\"https://colab.research.google.com/assets/colab-badge.svg\" alt=\"Open In Colab\"/></a>"
      ]
    },
    {
      "cell_type": "code",
      "metadata": {
        "id": "w7IpWnBCtp55",
        "outputId": "c629dfd1-6288-4ee8-d961-42ed2da0b498"
      },
      "source": [
        "import cv2\n",
        "from tracker import *\n",
        "\n",
        "# Create tracker object\n",
        "tracker = EuclideanDistTracker()\n",
        "\n",
        "cap = cv2.VideoCapture(\"B5-Parking.avi\")\n",
        "\n",
        "# Object detection from Stable camera\n",
        "object_detector = cv2.createBackgroundSubtractorMOG2(history=1000, varThreshold=100)\n",
        "\n",
        "while True:\n",
        "    ret, frame = cap.read()\n",
        "    height, width, _ = frame.shape\n",
        "\n",
        "    # Extract Region of interest\n",
        "    roi = frame[100: 720,200: 700]\n",
        "\n",
        "    # 1. Object Detection\n",
        "    mask = object_detector.apply(roi)\n",
        "    _, mask = cv2.threshold(mask, 254, 255, cv2.THRESH_BINARY)\n",
        "    contours, _ = cv2.findContours(mask, cv2.RETR_TREE, cv2.CHAIN_APPROX_SIMPLE)\n",
        "    detections = []\n",
        "    for cnt in contours:\n",
        "        # Calculate area and remove small elements\n",
        "        area = cv2.contourArea(cnt)\n",
        "        if area > 8000:\n",
        "            #cv2.drawContours(roi, [cnt], -1, (0, 255, 0), 2)\n",
        "            x, y, w, h = cv2.boundingRect(cnt)\n",
        "\n",
        "\n",
        "            detections.append([x, y, w, h])\n",
        "\n",
        "    # 2. Object Tracking\n",
        "    boxes_ids = tracker.update(detections)\n",
        "    for box_id in boxes_ids:\n",
        "        x, y, w, h, id = box_id\n",
        "        cv2.putText(roi, str(id), (x, y - 15), cv2.FONT_HERSHEY_PLAIN, 2, (255, 0, 0), 2)\n",
        "        cv2.rectangle(roi, (x, y), (x + w, y + h), (0, 255, 0), 3)\n",
        "\n",
        "    cv2.imshow(\"roi\", roi)\n",
        "    cv2.imshow(\"Frame\", frame)\n",
        "    cv2.imshow(\"Mask\", mask)\n",
        "\n",
        "    key = cv2.waitKey(30)\n",
        "    if key == 27:\n",
        "        break\n",
        "\n",
        "cap.release()\n",
        "cv2.destroyAllWindows()"
      ],
      "execution_count": null,
      "outputs": [
        {
          "output_type": "stream",
          "text": [
            "{2: (65, 169)}\n",
            "{2: (69, 167)}\n",
            "{2: (72, 165)}\n",
            "{2: (75, 163)}\n",
            "{2: (78, 161)}\n",
            "{2: (80, 159)}\n",
            "{2: (84, 158)}\n",
            "{2: (86, 157)}\n",
            "{2: (88, 157)}\n",
            "{2: (92, 155)}\n",
            "{2: (93, 155)}\n",
            "{2: (96, 155)}\n",
            "{2: (98, 155)}\n",
            "{2: (100, 155)}\n",
            "{2: (102, 154)}\n",
            "{2: (104, 154)}\n",
            "{2: (107, 154)}\n",
            "{2: (108, 154)}\n",
            "{2: (111, 153)}\n",
            "{3: (113, 128)}\n",
            "{3: (115, 127)}\n",
            "{3: (117, 124)}\n",
            "{3: (119, 123)}\n",
            "{3: (121, 123)}\n",
            "{3: (122, 123)}\n",
            "{3: (123, 122)}\n",
            "{3: (124, 122)}\n",
            "{3: (124, 116)}\n",
            "{3: (127, 117)}\n",
            "{3: (129, 114)}\n",
            "{3: (130, 115)}\n",
            "{3: (131, 113)}\n",
            "{3: (131, 112)}\n",
            "{3: (133, 112)}\n",
            "{3: (136, 112)}\n",
            "{3: (139, 110)}\n",
            "{3: (145, 109)}\n",
            "{3: (148, 109)}\n",
            "{3: (152, 107)}\n",
            "{3: (155, 107)}\n",
            "{3: (158, 112)}\n",
            "{3: (162, 112)}\n",
            "{3: (165, 110)}\n",
            "{3: (172, 125)}\n",
            "{3: (175, 123)}\n",
            "{3: (179, 124)}\n",
            "{3: (182, 123)}\n",
            "{3: (185, 121)}\n",
            "{3: (189, 121)}\n",
            "{4: (207, 115)}\n",
            "{4: (211, 114)}\n",
            "{5: (221, 109)}\n"
          ],
          "name": "stdout"
        }
      ]
    },
    {
      "cell_type": "code",
      "metadata": {
        "id": "VbEIkBGNtp5-"
      },
      "source": [
        ""
      ],
      "execution_count": null,
      "outputs": []
    },
    {
      "cell_type": "code",
      "metadata": {
        "id": "2Du8z2srtp5_"
      },
      "source": [
        ""
      ],
      "execution_count": null,
      "outputs": []
    },
    {
      "cell_type": "code",
      "metadata": {
        "id": "vBrCCP-wtp5_"
      },
      "source": [
        ""
      ],
      "execution_count": null,
      "outputs": []
    }
  ]
}